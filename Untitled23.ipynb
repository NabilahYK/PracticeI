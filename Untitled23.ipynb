{
  "nbformat": 4,
  "nbformat_minor": 0,
  "metadata": {
    "colab": {
      "provenance": [],
      "authorship_tag": "ABX9TyPU1W2B6ZpifZy0rTTJypWb",
      "include_colab_link": true
    },
    "kernelspec": {
      "name": "python3",
      "display_name": "Python 3"
    },
    "language_info": {
      "name": "python"
    }
  },
  "cells": [
    {
      "cell_type": "markdown",
      "metadata": {
        "id": "view-in-github",
        "colab_type": "text"
      },
      "source": [
        "<a href=\"https://colab.research.google.com/github/NabilahYK/PracticeI/blob/main/Untitled23.ipynb\" target=\"_parent\"><img src=\"https://colab.research.google.com/assets/colab-badge.svg\" alt=\"Open In Colab\"/></a>"
      ]
    },
    {
      "cell_type": "markdown",
      "source": [
        "Dataset linked on another desktop.\n",
        "Dataset saved in google drive as 'referencetablescoldepressionfinal0612'\n",
        "Same on my laptop(i think)"
      ],
      "metadata": {
        "id": "7h0YSsBNXlN-"
      }
    },
    {
      "cell_type": "code",
      "execution_count": null,
      "metadata": {
        "id": "FxFzYcVYjrrV"
      },
      "outputs": [],
      "source": [
        "from google.colab import drive; drive.mount('/content/drive')\n"
      ]
    },
    {
      "cell_type": "markdown",
      "source": [
        "connect google drive and colab to interlink resources"
      ],
      "metadata": {
        "id": "OcugE_uiXkBg"
      }
    },
    {
      "cell_type": "code",
      "source": [
        "import pandas as pd\n",
        "import numpy as np\n"
      ],
      "metadata": {
        "id": "KoTcAYa6o0z4"
      },
      "execution_count": null,
      "outputs": []
    },
    {
      "cell_type": "markdown",
      "source": [
        "import modules as needed\n"
      ],
      "metadata": {
        "id": "Dc3edZHtv0rU"
      }
    },
    {
      "cell_type": "markdown",
      "source": [
        "(below) import entire excel file into colab and load it into the variable data\n",
        "read the data variable, this just confirms i am using the correct dataset"
      ],
      "metadata": {
        "id": "G8SrH28mv34g"
      }
    },
    {
      "cell_type": "code",
      "source": [
        "data = pd.read_excel(\"/content/drive/MyDrive/referencetablescoldepressionfinal0612.xlsx\")\n",
        "data\n"
      ],
      "metadata": {
        "id": "ODlyFrPsVWqE"
      },
      "execution_count": null,
      "outputs": []
    },
    {
      "cell_type": "code",
      "source": [
        "xls = pd.ExcelFile(\"/content/drive/MyDrive/referencetablescoldepressionfinal0612.xlsx\")\n",
        "xls"
      ],
      "metadata": {
        "id": "uVavO6pFbA4H"
      },
      "execution_count": null,
      "outputs": []
    },
    {
      "cell_type": "code",
      "source": [
        "xls = pd.ExcelFile(\"/content/drive/MyDrive/referencetablescoldepressionfinal0612.xlsx\")\n",
        "df1 = pd.read_excel(xls, '1.1')\n",
        "df1\n",
        "\n"
      ],
      "metadata": {
        "id": "HWRyQKRs2_uy"
      },
      "execution_count": null,
      "outputs": []
    },
    {
      "cell_type": "code",
      "source": [
        "df2 = pd.read_excel (\"/content/drive/MyDrive/referencetablescoldepressionfinal0612.xlsx\", header=[0], index_col=[0])\n",
        "df2 = pd.read_excel(\"/content/drive/MyDrive/referencetablescoldepressionfinal0612.xlsx\",sheet_name=\"1.1\", index_col = None,\n",
        "              skiprows = 12, nrows=19, usecols = 'A:L')\n",
        "df2\n"
      ],
      "metadata": {
        "id": "j-TS7aM91sPR"
      },
      "execution_count": null,
      "outputs": []
    },
    {
      "cell_type": "code",
      "source": [
        "df2.shape"
      ],
      "metadata": {
        "id": "AeyUFRo-fGt5"
      },
      "execution_count": null,
      "outputs": []
    },
    {
      "cell_type": "code",
      "source": [
        "print(df2.columns.tolist())"
      ],
      "metadata": {
        "id": "DHXHO0hFgB53"
      },
      "execution_count": null,
      "outputs": []
    },
    {
      "cell_type": "code",
      "source": [
        "df2.head"
      ],
      "metadata": {
        "id": "0LKXgUv5dX7T"
      },
      "execution_count": null,
      "outputs": []
    },
    {
      "cell_type": "code",
      "source": [
        "df2.describe()"
      ],
      "metadata": {
        "id": "JK3nTMeSj1ED"
      },
      "execution_count": null,
      "outputs": []
    },
    {
      "cell_type": "code",
      "source": [
        "df2.info()"
      ],
      "metadata": {
        "id": "FHAleqldj3nV"
      },
      "execution_count": null,
      "outputs": []
    },
    {
      "cell_type": "code",
      "source": [
        "df2.isnull().sum()"
      ],
      "metadata": {
        "id": "Ev23jIy0kCsv"
      },
      "execution_count": null,
      "outputs": []
    },
    {
      "cell_type": "code",
      "source": [
        "df3 = df2.fillna('')"
      ],
      "metadata": {
        "id": "M-dYLylOmOpU"
      },
      "execution_count": null,
      "outputs": []
    },
    {
      "cell_type": "code",
      "source": [
        "df3"
      ],
      "metadata": {
        "id": "IUN0nH_8mSJo"
      },
      "execution_count": null,
      "outputs": []
    },
    {
      "cell_type": "code",
      "source": [
        "df4 = df3.set_index('Depressive symptoms of adults over time')\n",
        "df4"
      ],
      "metadata": {
        "id": "yJnJB69Mhvp5"
      },
      "execution_count": null,
      "outputs": []
    },
    {
      "cell_type": "code",
      "source": [
        "print(df4.columns.tolist())"
      ],
      "metadata": {
        "id": "vBb-BdnUmTmF"
      },
      "execution_count": null,
      "outputs": []
    },
    {
      "cell_type": "code",
      "source": [
        "df5 = df4.rename(columns={'All \\npersons\\n%' : 'All persons %' , 'Aged 16 to 39 years\\n%' : 'Aged 16 to 39 %' ,'Aged 40 to 69 years\\n%' : 'Aged 40 to 69 years %' , 'Aged\\n70 and over\\n%' : 'Aged 70+ %' ,'Men \\n%' : 'Men %'\n",
        ",'Women \\n%' : 'Women %' , 'Disabled [note 2] \\n%' : 'Disabled %' , 'Non-disabled [note 2]\\n%' : 'Non-disabled %' ,'England\\n%' : 'England %' ,'Wales\\n%' : 'Wales %', 'Scotland\\n%' : 'Scotland %'})"
      ],
      "metadata": {
        "id": "rLJvEalMbcvw"
      },
      "execution_count": null,
      "outputs": []
    },
    {
      "cell_type": "code",
      "source": [
        "df5"
      ],
      "metadata": {
        "id": "ZEfw6yfQbtL7"
      },
      "execution_count": null,
      "outputs": []
    },
    {
      "cell_type": "code",
      "source": [
        "df4 = df4.str.strip(\"123._/\")\n",
        "!need to strip the ehader names bc mess pr change"
      ],
      "metadata": {
        "id": "QwmWnhWQlI9k"
      },
      "execution_count": null,
      "outputs": []
    },
    {
      "cell_type": "code",
      "source": [
        "print(df5.columns.tolist())"
      ],
      "metadata": {
        "id": "PURMewB_hM4l"
      },
      "execution_count": null,
      "outputs": []
    },
    {
      "cell_type": "code",
      "source": [
        "print(df5.index)"
      ],
      "metadata": {
        "id": "j1FtsSnvhnrJ"
      },
      "execution_count": null,
      "outputs": []
    },
    {
      "cell_type": "code",
      "source": [
        "df6 = df5.reset_index()\n",
        "df6\n"
      ],
      "metadata": {
        "id": "gm7CpbvLiVcg"
      },
      "execution_count": null,
      "outputs": []
    },
    {
      "cell_type": "code",
      "source": [
        "mypiv = df6.pivot(index=['All persons %','Men %'], columns = 'Depressive symptoms of adults over time')[['No or mild symptoms','Moderate to severe symptoms']]"
      ],
      "metadata": {
        "id": "Spk1ZjSBlASR"
      },
      "execution_count": null,
      "outputs": []
    },
    {
      "cell_type": "code",
      "source": [
        "newf ="
      ],
      "metadata": {
        "id": "7RpjdKKzim4o"
      },
      "execution_count": null,
      "outputs": []
    }
  ]
}